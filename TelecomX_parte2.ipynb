{
  "nbformat": 4,
  "nbformat_minor": 0,
  "metadata": {
    "colab": {
      "provenance": [],
      "authorship_tag": "ABX9TyN6ns/Zrv6U2jthTcIQbFfM",
      "include_colab_link": true
    },
    "kernelspec": {
      "name": "python3",
      "display_name": "Python 3"
    },
    "language_info": {
      "name": "python"
    }
  },
  "cells": [
    {
      "cell_type": "markdown",
      "metadata": {
        "id": "view-in-github",
        "colab_type": "text"
      },
      "source": [
        "<a href=\"https://colab.research.google.com/github/mariantocostanzo/Challange_Telecom_X_parte2/blob/main/TelecomX_parte2.ipynb\" target=\"_parent\"><img src=\"https://colab.research.google.com/assets/colab-badge.svg\" alt=\"Open In Colab\"/></a>"
      ]
    },
    {
      "cell_type": "code",
      "source": [
        "import pandas as pd\n",
        "url = 'https://raw.githubusercontent.com/mariantocostanzo/Challange_Telecom_X_parte2/main/datos_tratados.csv'\n",
        "df = pd.read_csv(url)\n",
        "\n"
      ],
      "metadata": {
        "id": "y1Yp7hVSnUig"
      },
      "execution_count": 1,
      "outputs": []
    },
    {
      "cell_type": "code",
      "source": [
        "#nombres de las columnas\n",
        "print(df.columns.tolist())\n"
      ],
      "metadata": {
        "id": "Qy_Bu-WScqZm"
      },
      "execution_count": null,
      "outputs": []
    },
    {
      "cell_type": "code",
      "source": [
        "# Se elimina la columna 'customerID' y las filas que contengan valores nulos\n",
        "df = df.drop(columns=[\"customerID\"])\n",
        "df = df.dropna()\n",
        "\n",
        "# Verificamos que no queden valores nulos\n",
        "print(\"¿Hay valores nulos?:\", df.isnull().values.any())\n",
        "\n",
        "# Mostramos las dimensiones del dataset limpio\n",
        "print(\"Tamaño del DataFrame después de limpieza:\", df.shape)\n"
      ],
      "metadata": {
        "id": "C9K928Z8aJ9v"
      },
      "execution_count": null,
      "outputs": []
    },
    {
      "cell_type": "markdown",
      "source": [
        "## 📦 Se codifican las variables categóricas\n",
        "\n",
        "| Tipo de variable                           | Método aplicado|\n",
        "| ------------------------------------------ | ------------------------------------- |\n",
        "| Categóricas binarias (2 valores)           | Label Encoding (`Yes`→1, `No`→0)      |\n",
        "| Categóricas no binarias (más de 2 valores) | One-Hot Encoding (columnas separadas) |\n"
      ],
      "metadata": {
        "id": "XYHH1aNHfs6V"
      }
    },
    {
      "cell_type": "code",
      "source": [
        "from sklearn.preprocessing import LabelEncoder\n",
        "\n",
        "# 1.'account.Charges.Total' a numérico\n",
        "df['account.Charges.Total'] = pd.to_numeric(df['account.Charges.Total'], errors='coerce')\n",
        "\n",
        "# 2. Se identifican las columnas categóricas\n",
        "categorical_cols = df.select_dtypes(include='object').columns.tolist()\n",
        "\n",
        "# 3. Se detectan las binarias (solo 2 valores únicos, ignorando NaNs)\n",
        "binary_cols = [col for col in categorical_cols if df[col].nunique() == 2]\n",
        "\n",
        "# 4. Se aplica Label Encoding a columnas binarias\n",
        "label_encoder = LabelEncoder()\n",
        "for col in binary_cols:\n",
        "    df[col] = label_encoder.fit_transform(df[col])\n",
        "\n",
        "# 5. Se aplica One-Hot Encoding al resto de las columnas categóricas\n",
        "multi_cat_cols = [col for col in categorical_cols if col not in binary_cols]\n",
        "df = pd.get_dummies(df, columns=multi_cat_cols, drop_first=True)\n",
        "\n",
        "# Se muestran las primeras filas del DataFrame transformado\n",
        "df.head()\n"
      ],
      "metadata": {
        "id": "96TDKT08gUce"
      },
      "execution_count": null,
      "outputs": []
    },
    {
      "cell_type": "markdown",
      "source": [
        "## ✅ Proporción entre los que cancelaron y no"
      ],
      "metadata": {
        "id": "zyal1Dqtitk1"
      }
    },
    {
      "cell_type": "code",
      "source": [
        "# Cantidad de clientes que cancelaron y los que no\n",
        "cancel_counts = df['Churn'].value_counts()\n",
        "\n",
        "# Total y porcentaje de cada clase\n",
        "print(\"Cantidad por clase:\")\n",
        "print(cancel_counts)\n",
        "\n",
        "print(\"\\nProporción por clase:\")\n",
        "print(cancel_counts / cancel_counts.sum())\n"
      ],
      "metadata": {
        "id": "sAzZdtj8i0m2"
      },
      "execution_count": null,
      "outputs": []
    },
    {
      "cell_type": "markdown",
      "source": [
        "##✅ Código para escalar las variables numéricas\n",
        "##Se uso StandardScaler, que estandariza con media 0 y desviación 1\n"
      ],
      "metadata": {
        "id": "qV7Z7QJdd8Y5"
      }
    },
    {
      "cell_type": "code",
      "source": [
        "from sklearn.preprocessing import StandardScaler\n",
        "\n",
        "# Identificamos columnas numéricas\n",
        "numeric_cols = df.select_dtypes(include=['int64', 'float64']).columns.tolist()\n",
        "numeric_cols.remove('Churn')  # No queremos escalar la variable objetivo\n",
        "\n",
        "# Creamos un escalador\n",
        "scaler = StandardScaler()\n",
        "\n",
        "# Aplicamos el escalado a las columnas numéricas\n",
        "df_scaled = df.copy()\n",
        "df_scaled[numeric_cols] = scaler.fit_transform(df_scaled[numeric_cols])\n",
        "\n",
        "# Mostramos un ejemplo\n",
        "df_scaled[numeric_cols].head()\n"
      ],
      "metadata": {
        "id": "qgpvE_Z5eUL_"
      },
      "execution_count": null,
      "outputs": []
    },
    {
      "cell_type": "markdown",
      "source": [
        "##✅ Cálculo y vizualición de la matriz de correlación\n"
      ],
      "metadata": {
        "id": "qIhuVAwoe_3_"
      }
    },
    {
      "cell_type": "code",
      "source": [
        "import matplotlib.pyplot as plt\n",
        "import seaborn as sns\n",
        "\n",
        "# se ordenan las correlaciones con Churn\n",
        "churn_corr = df.corr(numeric_only=True)[\"Churn\"].drop(\"Churn\").sort_values(ascending=False)\n",
        "\n",
        "# lista de colores basada en los valores de correlación\n",
        "colors = sns.color_palette(\"coolwarm\", len(churn_corr))\n",
        "colors = [colors[i] for i in range(len(colors))]\n",
        "\n",
        "plt.figure(figsize=(10, 6))\n",
        "sns.barplot(x=churn_corr.values, y=churn_corr.index, palette=colors, legend=False)\n",
        "plt.title(\"Correlación de variables con 'Churn'\")\n",
        "plt.xlabel(\"Coeficiente de correlación\")\n",
        "plt.ylabel(\"Variables\")\n",
        "plt.tight_layout()\n",
        "plt.show()\n",
        "\n",
        "\n"
      ],
      "metadata": {
        "id": "AFOObJrpfVan"
      },
      "execution_count": null,
      "outputs": []
    },
    {
      "cell_type": "markdown",
      "source": [
        "##🔟 Top 10 variables más correlacionadas con Churn:\n",
        "\n",
        "##Las variables con correlación positiva alta (más propensas a que el cliente cancele):\n",
        "\n",
        "| Variable                              | Correlación alta positiva  |\n",
        "|---------------------------------------|----------------------------|\n",
        "| internet.InternetService_Fiber optic  | +0.3 aprox.                |\n",
        "| account.PaymentMethod_Electronic check| +0.3 aprox.                |\n",
        "| account.Charges.Monthly               | +0.25 aprox.               |\n",
        "| account.PaperlessBilling              | +0.2 aprox.                |\n",
        "| customer.SeniorCitizen                | +0.15 aprox.               |\n",
        "\n",
        "###Estas variables aumentan la probabilidad de que un cliente cancele.\n",
        "\n",
        "##Las variables con correlación negativa (más asociadas a permanencia):\n",
        "\n",
        "| Variable                               | Correlación negativa     |\n",
        "|----------------------------------------|--------------------------|\n",
        "| customer.tenure                        | –0.35 aprox.             |\n",
        "| account.Contract_Two year              | –0.3 aprox.              |\n",
        "| internet.TechSupport_No                | –0.25 aprox.             |\n",
        "| account.Contract_One year              | –0.2 aprox.              |\n",
        "| internet.OnlineSecurity_Yes            | –0.2 aprox.              |   \n",
        "\n",
        "###Estas reducen la probabilidad de cancelación (fidelidad del cliente).\n",
        "\n"
      ],
      "metadata": {
        "id": "uwsE3fe3Lncz"
      }
    },
    {
      "cell_type": "code",
      "source": [
        "import matplotlib.pyplot as plt\n",
        "import seaborn as sns\n",
        "\n",
        "# Se ordenana las correlaciones por valor absoluto\n",
        "churn_corr_abs = churn_corr.abs().sort_values(ascending=False)\n",
        "\n",
        "#top 10 variables\n",
        "top_10_corr = churn_corr.loc[churn_corr_abs.head(10).index]\n",
        "\n",
        "# lista de colores basada en los valores de correlación\n",
        "colors = sns.color_palette(\"coolwarm\", len(top_10_corr))\n",
        "\n",
        "\n",
        "plt.figure(figsize=(10, 6))\n",
        "sns.barplot(x=top_10_corr.values, y=top_10_corr.index, palette=colors)\n",
        "plt.title(\"Top 10 variables más correlacionadas con 'Churn'\")\n",
        "plt.xlabel(\"Coeficiente de correlación\")\n",
        "plt.ylabel(\"Variables\")\n",
        "plt.tight_layout()\n",
        "plt.show()"
      ],
      "metadata": {
        "id": "3QmvSm8EN9gL"
      },
      "execution_count": null,
      "outputs": []
    },
    {
      "cell_type": "code",
      "source": [
        "df.to_csv(\"df_transformado.csv\", index=False)\n"
      ],
      "metadata": {
        "id": "66e-_vRTVPce"
      },
      "execution_count": null,
      "outputs": []
    },
    {
      "cell_type": "markdown",
      "source": [
        "#analisis dirigido#\n",
        "📊 1. Tiempo de contrato (customer.tenure) × Cancelación.\n",
        "Se uso un boxplot para ver cómo varía el tiempo de permanencia según si el cliente canceló o no.\n",
        "\n",
        "📊 2. Gasto total (account.Charges.Total) × Cancelación.\n",
        "Se uso un scatter plot para comparar cuánto gastaron los clientes que cancelaron frente a los que no."
      ],
      "metadata": {
        "id": "VaayzHiBmIPh"
      }
    },
    {
      "cell_type": "code",
      "source": [
        "import pandas as pd\n",
        "import seaborn as sns\n",
        "import matplotlib.pyplot as plt\n",
        "\n",
        "# Cargar el dataset transformado\n",
        "df = pd.read_csv(\"df_transformado.csv\")\n",
        "\n",
        "# Estilo\n",
        "sns.set(style=\"whitegrid\")\n",
        "plt.figure(figsize=(14, 6))\n",
        "\n",
        "# Gráfico 1: Boxplot - Tiempo de contrato vs Cancelación\n",
        "plt.subplot(1, 2, 1)\n",
        "sns.boxplot(x=\"Churn\", y=\"customer.tenure\", data=df, palette=[\"lightcoral\", \"lightcoral\"])\n",
        "plt.title(\"Tiempo de contrato según cancelación\")\n",
        "plt.xlabel(\"Cancelación (0 = No, 1 = Sí)\")\n",
        "plt.ylabel(\"Meses de contrato\")\n",
        "\n",
        "# Gráfico 2: Scatter plot - Gasto total vs Cancelación\n",
        "plt.subplot(1, 2, 2)\n",
        "sns.scatterplot(x=\"account.Charges.Total\", y=\"Churn\", data=df, alpha=0.5)\n",
        "plt.title(\"Gasto total vs Cancelación\")\n",
        "plt.xlabel(\"Gasto total\")\n",
        "plt.ylabel(\"Cancelación (0 = No, 1 = Sí)\")\n",
        "\n",
        "plt.tight_layout()\n",
        "plt.show()\n"
      ],
      "metadata": {
        "id": "SnjbMuTOq8m7"
      },
      "execution_count": null,
      "outputs": []
    },
    {
      "cell_type": "markdown",
      "source": [
        "#Separación de Datos\n",
        "##👉 Separa el dataset en dos partes:\n",
        "\n",
        "X: contiene todas las columnas menos \"Churn\" (las características o variables independientes).\n",
        "\n",
        "y: contiene la columna \"Churn\" (la variable objetivo que queremos predecir: si el cliente cancela o no).\n",
        "\n"
      ],
      "metadata": {
        "id": "5O4jqfmwrehJ"
      }
    },
    {
      "cell_type": "code",
      "source": [
        "from sklearn.model_selection import train_test_split\n",
        "\n",
        "# Separar variables predictoras y variable objetivo\n",
        "X = df.drop(\"Churn\", axis=1)\n",
        "y = df[\"Churn\"]\n",
        "\n",
        "# Dividir 80% entrenamiento y 20% prueba, estratificando por la variable objetivo\n",
        "X_train, X_test, y_train, y_test = train_test_split(\n",
        "    X, y, test_size=0.20, random_state=42, stratify=y\n",
        ")\n",
        "\n",
        "# Verificación de tamaños\n",
        "print(\"Tamaño de entrenamiento:\", X_train.shape[0])\n",
        "print(\"Tamaño de prueba:\", X_test.shape[0])\n",
        "print(\"Total:\", df.shape[0])\n"
      ],
      "metadata": {
        "id": "pazAtUStrivY"
      },
      "execution_count": null,
      "outputs": []
    },
    {
      "cell_type": "markdown",
      "source": [
        "#Creación de Modelos\n",
        "\n",
        "✅ 1. Modelo 1: Regresión Logística (requiere normalización)\n",
        "Usa distancias internas y cálculo de coeficientes → necesita que las variables estén en la misma escala.\n",
        "\n",
        "✅ 2. Modelo 2: Random Forest (no requiere normalización)\n",
        "Basado en árboles → no le afecta la escala.\n",
        "\n"
      ],
      "metadata": {
        "id": "q3pNNIdMtBWa"
      }
    },
    {
      "cell_type": "code",
      "source": [
        "from sklearn.impute import SimpleImputer\n",
        "from sklearn.linear_model import LogisticRegression\n",
        "from sklearn.ensemble import RandomForestClassifier\n",
        "from sklearn.preprocessing import StandardScaler\n",
        "from sklearn.pipeline import Pipeline\n",
        "from sklearn.metrics import accuracy_score, classification_report\n",
        "\n",
        "# Separar features y target\n",
        "X = df.drop(\"Churn\", axis=1)\n",
        "y = df[\"Churn\"]\n",
        "\n",
        "# entrenamiento y prueba\n",
        "from sklearn.model_selection import train_test_split\n",
        "X_train, X_test, y_train, y_test = train_test_split(\n",
        "    X, y, test_size=0.20, random_state=42, stratify=y\n",
        ")\n",
        "\n",
        "# ================================\n",
        "# MODELO 1: Regresión Logística (con imputación y normalización)\n",
        "# ================================\n",
        "pipeline_lr = Pipeline([\n",
        "    (\"imputer\", SimpleImputer(strategy=\"mean\")),\n",
        "    (\"scaler\", StandardScaler()),\n",
        "    (\"model\", LogisticRegression(solver='liblinear'))\n",
        "])\n",
        "\n",
        "pipeline_lr.fit(X_train, y_train)\n",
        "y_pred_lr = pipeline_lr.predict(X_test)\n",
        "\n",
        "# ================================\n",
        "# MODELO 2: Random Forest (con imputación, sin normalización)\n",
        "# ================================\n",
        "pipeline_rf = Pipeline([\n",
        "    (\"imputer\", SimpleImputer(strategy=\"mean\")),\n",
        "    (\"model\", RandomForestClassifier(n_estimators=100, random_state=42))\n",
        "])\n",
        "\n",
        "pipeline_rf.fit(X_train, y_train)\n",
        "y_pred_rf = pipeline_rf.predict(X_test)\n",
        "\n",
        "# ================================\n",
        "# Evaluación\n",
        "# ================================\n",
        "print(\"🔹 Regresión Logística\")\n",
        "print(\"Acurácia:\", accuracy_score(y_test, y_pred_lr))\n",
        "print(classification_report(y_test, y_pred_lr))\n",
        "\n",
        "print(\"🔹 Random Forest\")\n",
        "print(\"Acurácia:\", accuracy_score(y_test, y_pred_rf))\n",
        "print(classification_report(y_test, y_pred_rf))\n"
      ],
      "metadata": {
        "id": "DuZAN3Wto34y"
      },
      "execution_count": null,
      "outputs": []
    },
    {
      "cell_type": "code",
      "source": [
        "import matplotlib.pyplot as plt\n",
        "import seaborn as sns\n",
        "from sklearn.metrics import classification_report\n",
        "\n",
        "\n",
        "report_lr = classification_report(y_test, y_pred_lr, output_dict=True)\n",
        "report_rf = classification_report(y_test, y_pred_rf, output_dict=True)\n",
        "\n",
        "\n",
        "metrics_lr = {\n",
        "    'Acurácia': report_lr['accuracy'],\n",
        "    'Precision': report_lr['1']['precision'],\n",
        "    'Recall': report_lr['1']['recall'],\n",
        "    'F1-Score': report_lr['1']['f1-score']\n",
        "}\n",
        "\n",
        "metrics_rf = {\n",
        "    'Acurácia': report_rf['accuracy'],\n",
        "    'Precision': report_rf['1']['precision'],\n",
        "    'Recall': report_rf['1']['recall'],\n",
        "    'F1-Score': report_rf['1']['f1-score']\n",
        "}\n",
        "\n",
        "# Creación del  DataFrame para el plotting\n",
        "metrics_df = pd.DataFrame({\n",
        "    'Metrica': metrics_lr.keys(),\n",
        "    'Regresión logística': metrics_lr.values(),\n",
        "    'Random Forest': metrics_rf.values()\n",
        "})\n",
        "\n",
        "metrics_df_melted = metrics_df.melt(id_vars='Metrica', var_name='Modelo', value_name='Score')\n",
        "\n",
        "# Plotting\n",
        "plt.figure(figsize=(10, 6))\n",
        "sns.barplot(x='Metrica', y='Score', hue='Modelo', data=metrics_df_melted, palette=[\"lightblue\", \"lightpink\"])\n",
        "plt.title('Comparación del rendimiento del modelo')\n",
        "plt.ylabel('Score')\n",
        "plt.ylim(0, 1)\n",
        "plt.show()"
      ],
      "metadata": {
        "id": "vy8XyEeIrZwy"
      },
      "execution_count": null,
      "outputs": []
    },
    {
      "cell_type": "markdown",
      "metadata": {
        "id": "1e6355f2"
      },
      "source": [
        "## Matriz de confusión\n",
        "\n",
        "Matriz de confusión de cada modelo para ver qué tan bien se desempeñan al clasificar a los clientes que abandonan y los que no."
      ]
    },
    {
      "cell_type": "code",
      "metadata": {
        "id": "17561c97"
      },
      "source": [
        "from sklearn.metrics import confusion_matrix\n",
        "import seaborn as sns\n",
        "import matplotlib.pyplot as plt\n",
        "\n",
        "# Matriz de Confusión para regresión logística\n",
        "cm_lr = confusion_matrix(y_test, y_pred_lr)\n",
        "plt.figure(figsize=(6, 4))\n",
        "sns.heatmap(cm_lr, annot=True, fmt='d', cmap='Blues', cbar=False)\n",
        "plt.title('Matriz de Confusión - Regresión logística')\n",
        "plt.xlabel('Predicted')\n",
        "plt.ylabel('Actual')\n",
        "plt.xticks([0.5, 1.5], ['No Churn (0)', 'Churn (1)'])\n",
        "plt.yticks([0.5, 1.5], ['No Churn (0)', 'Churn (1)'])\n",
        "plt.show()\n",
        "\n",
        "# Matriz de ConfusiónRandom Forest\n",
        "cm_rf = confusion_matrix(y_test, y_pred_rf)\n",
        "plt.figure(figsize=(6, 4))\n",
        "sns.heatmap(cm_rf, annot=True, fmt='d', cmap='Blues', cbar=False)\n",
        "plt.title('Matriz de Confusión- Random Forest')\n",
        "plt.xlabel('Predicted')\n",
        "plt.ylabel('Actual')\n",
        "plt.xticks([0.5, 1.5], ['No Churn (0)', 'Churn (1)'])\n",
        "plt.yticks([0.5, 1.5], ['No Churn (0)', 'Churn (1)'])\n",
        "plt.show()"
      ],
      "execution_count": null,
      "outputs": []
    },
    {
      "cell_type": "markdown",
      "source": [
        "###Considerando la importancia de identificar los casos reales de cancelación (Recall) y el equilibrio general entre precisión y recall (Puntuación F1) para la clase de cancelación, el modelo de Regresión Logística parece tener un rendimiento ligeramente mejor para este problema específico, aunque la precisión general sea similar."
      ],
      "metadata": {
        "id": "hMLJy3m9ty9q"
      }
    },
    {
      "cell_type": "markdown",
      "metadata": {
        "id": "917df12c"
      },
      "source": [
        "# Informe Detallado sobre la Cancelación de Clientes\n",
        "\n",
        "Se presenta un análisis de los factores que influyen en la cancelación de clientes (Churn) y se evalúa el rendimiento de dos modelos de clasificación para predecir este comportamiento.\n",
        "\n",
        "## 1. Factores Clave que Influyen en la Cancelación\n",
        "\n",
        "Basándonos en el análisis de correlación, las variables que muestran una mayor influencia (positiva o negativa) en la cancelación son:\n",
        "\n",
        "*   **Correlación Positiva Alta (mayor probabilidad de cancelación):**\n",
        "    *   `internet.InternetService_Fiber optic`: Los clientes con servicio de fibra óptica tienden a cancelar más.\n",
        "    *   `account.PaymentMethod_Electronic check`: El método de pago por cheque electrónico está asociado a una mayor tasa de cancelación.\n",
        "    *   `account.Charges.Monthly`: Un mayor cargo mensual se correlaciona positivamente con la cancelación.\n",
        "    *   `account.PaperlessBilling`: Los clientes con facturación electrónica tienden a cancelar más.\n",
        "    *   `customer.SeniorCitizen`: Los clientes de la tercera edad tienen una mayor propensión a cancelar.\n",
        "\n",
        "*   **Correlación Negativa Alta (menor probabilidad de cancelación - mayor fidelidad):**\n",
        "    *   `customer.tenure`: Los clientes con mayor tiempo de permanencia son menos propensos a cancelar.\n",
        "    *   `account.Contract_Two year`: Los contratos de dos años están fuertemente asociados a la permanencia.\n",
        "    *   `internet.TechSupport_No internet service`: La falta de soporte técnico está relacionada con una mayor cancelación.\n",
        "    *   `account.Contract_One year`: Los contratos de un año también reducen la probabilidad de cancelación, aunque en menor medida que los de dos años.\n",
        "    *   `internet.OnlineSecurity_Yes`: Tener seguridad online se asocia a una menor cancelación.\n",
        "\n",
        "## 2. Rendimiento de los Modelos de Clasificación\n",
        "\n",
        "Se evaluaron dos modelos: Regresión Logística y Random Forest. Los resultados obtenidos en el conjunto de prueba son los siguientes:\n",
        "\n",
        "| Métrica   | Regresión Logística | Random Forest |\n",
        "| :-------- | :------------------ | :------------ |\n",
        "| Accuracy  | 0.794               | 0.785         |\n",
        "| Precision (Churn) | 0.637               | 0.630         |\n",
        "| Recall (Churn)    | 0.521               | 0.460         |\n",
        "| F1-Score (Churn)  | 0.574               | 0.532         |\n",
        "\n",
        "**Análisis del Rendimiento:**\n",
        "\n",
        "*   Ambos modelos tienen una precisión general similar.\n",
        "*   La **Regresión Logística** muestra un rendimiento ligeramente mejor en las métricas clave para la clase minoritaria (Churn):\n",
        "    *   Mayor **Recall**, lo que significa que identifica una mayor proporción de clientes que realmente cancelan. Esto es crucial para implementar estrategias de retención.\n",
        "    *   Mayor **Puntuación F1**, que indica un mejor equilibrio entre precisión y recall para la clase de interés.\n",
        "*   El **Random Forest**, aunque con una precisión similar, tiene un recall más bajo, lo que implica que deja pasar a más clientes que sí cancelarán.\n",
        "\n",
        "**Matrices de Confusión:**\n",
        "\n",
        "Las matrices de confusión detallan las predicciones de cada modelo:\n",
        "\n",
        "**Regresión Logística:**\n",
        "*   Verdaderos Positivos (predice Churn correctamente): 195\n",
        "*   Falsos Positivos (predice Churn incorrectamente): 111\n",
        "*   Verdaderos Negativos (predice No Churn correctamente): 924\n",
        "*   Falsos Negativos (predice No Churn incorrectamente): 179\n",
        "\n",
        "**Random Forest:**\n",
        "*   Verdaderos Positivos: 172\n",
        "*   Falsos Positivos: 101\n",
        "*   Verdaderos Negativos: 934\n",
        "*   Falsos Negativos: 202\n",
        "\n",
        "La Regresión Logística identifica 195 casos de Churn correctamente, mientras que Random Forest identifica 172. La Regresión Logística también tiene menos Falsos Negativos (179 vs 202), lo que refuerza su mejor capacidad para detectar la cancelación.\n",
        "\n",
        "## 3. Estrategias de Retención Propuestas\n",
        "\n",
        "Basándonos en los factores clave de influencia y el rendimiento del modelo de Regresión Logística (considerado ligeramente superior para este caso):\n",
        "\n",
        "*   **Foco en Clientes con Fibra Óptica y Pago Electrónico:** Implementar programas de satisfacción específicos o revisar los posibles puntos de negativos para clientes que usan estos servicios o métodos de pago.\n",
        "*   **Monitoreo de Cargos Mensuales:** Identificar a los clientes con cargos mensuales elevados y evaluar la posibilidad de ofrecerles planes alternativos o descuentos antes de que consideren cancelar.\n",
        "*   **Incentivar Contratos a Largo Plazo:** Promover activamente los contratos de uno y, especialmente, de dos años, destacando sus beneficios y ofreciendo incentivos por la renovación a largo plazo.\n",
        "*   **Mejorar el Soporte Técnico:** Dado que la falta de soporte técnico se asocia con la cancelación, invertir en mejorar la calidad y accesibilidad del soporte puede ser una estrategia de retención efectiva.\n",
        "*   **Resaltar los Beneficios de la Seguridad Online:** Educar a los clientes sobre la importancia y los beneficios de la seguridad online para fomentar su adopción y, potencialmente, aumentar la permanencia.\n",
        "*   **Programas para Clientes Antiguos:** Reconocer y recompensar la fidelidad de los clientes con mayor antigüedad (`customer.tenure`) para reforzar su compromiso.\n",
        "\n",
        "## Conclusión\n",
        "\n",
        "El análisis de datos ha revelado que factores como el tipo de servicio de internet, el método de pago, el cargo mensual y el tipo de contrato son determinantes en la decisión de un cliente de cancelar. El modelo de Regresión Logística demostró ser levemente mejor en la identificación de clientes propensos a cancelar. Las estrategias de retención deben enfocarse en abordar los puntos débiles identificados en los factores de alta correlación positiva e incentivar aquellos asociados a la permanencia."
      ]
    }
  ]
}